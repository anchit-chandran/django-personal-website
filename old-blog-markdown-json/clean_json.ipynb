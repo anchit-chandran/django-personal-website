{
 "cells": [
  {
   "cell_type": "code",
   "execution_count": 2,
   "metadata": {},
   "outputs": [
    {
     "name": "stdout",
     "output_type": "stream",
     "text": [
      "Collecting markdownify\n",
      "  Downloading markdownify-0.11.6-py3-none-any.whl (16 kB)\n",
      "Collecting beautifulsoup4<5,>=4.9 (from markdownify)\n",
      "  Using cached beautifulsoup4-4.12.2-py3-none-any.whl (142 kB)\n",
      "Requirement already satisfied: six<2,>=1.15 in c:\\users\\anchit\\desktop\\programming\\django\\perosnal-website\\django-personal-website\\django-env\\lib\\site-packages (from markdownify) (1.16.0)\n",
      "Collecting soupsieve>1.2 (from beautifulsoup4<5,>=4.9->markdownify)\n",
      "  Using cached soupsieve-2.4.1-py3-none-any.whl (36 kB)\n",
      "Installing collected packages: soupsieve, beautifulsoup4, markdownify\n",
      "Successfully installed beautifulsoup4-4.12.2 markdownify-0.11.6 soupsieve-2.4.1\n"
     ]
    }
   ],
   "source": [
    "!pip install markdownify"
   ]
  },
  {
   "cell_type": "code",
   "execution_count": 23,
   "metadata": {},
   "outputs": [
    {
     "name": "stdout",
     "output_type": "stream",
     "text": [
      "untitled-4 caused 'NoneType' object is not subscriptable\n"
     ]
    }
   ],
   "source": [
    "import json\n",
    "from markdownify import markdownify as md\n",
    "\n",
    "# Open the JSON file\n",
    "with open(\"old-posts.json\", \"r\", encoding=\"utf-8\") as file:\n",
    "    # Load the JSON data\n",
    "    json_data = json.load(file)\n",
    "\n",
    "exclude_posts = [\"contact-me\", \"sample-post\", \"about-me\"]\n",
    "posts = json_data[\"db\"][0][\"data\"][\"posts\"]\n",
    "for post in posts:\n",
    "\n",
    "    # get title\n",
    "    slug_title = post[\"slug\"]\n",
    "\n",
    "    # skip excluded\n",
    "    if slug_title in exclude_posts:\n",
    "        continue\n",
    "\n",
    "    try:\n",
    "        # get components for md title\n",
    "        published_date = (post[\"published_at\"][:10])\n",
    "        title = f\"{published_date}-{post['slug']}.md\"\n",
    "\n",
    "        # add img url, convert html to md\n",
    "        html = post[\"html\"]\n",
    "        html_as_md = md(html)\n",
    "\n",
    "        # write markdown file\n",
    "        with open(f\"posts/{title}\", \"w\", encoding=\"utf-8\") as f:\n",
    "            yml_data = f\"\"\"---\\ntitle: {post['title']}\\npublished_on: {published_date}\\nheader_img: {post['feature_image']}\\n---\\n\\n\"\"\"\n",
    "            f.write(yml_data)\n",
    "            f.write(html_as_md)\n",
    "        \n",
    "\n",
    "    except Exception as e:\n",
    "        print(f\"{slug_title} caused {e}\")"
   ]
  },
  {
   "cell_type": "code",
   "execution_count": 18,
   "metadata": {},
   "outputs": [
    {
     "name": "stdout",
     "output_type": "stream",
     "text": [
      "https://images.unsplash.com/photo-1580711508375-6040b32f28aa?crop=entropy&cs=tinysrgb&fit=max&fm=jpg&ixid=MnwxMTc3M3wwfDF8c2VhcmNofDEwfHxmaWdodHxlbnwwfHx8fDE2MjM4NTc2MDY&ixlib=rb-1.2.1&q=80&w=2000\n"
     ]
    }
   ],
   "source": [
    "title = '20210616-2-tearing-down-my-echo-chamber.md'\n",
    "with open(f\"posts/{title}\", \"r\", encoding=\"utf-8\") as f:\n",
    "    lines = f.readlines()\n",
    "    print(lines[-1])"
   ]
  }
 ],
 "metadata": {
  "kernelspec": {
   "display_name": "pw-env",
   "language": "python",
   "name": "python3"
  },
  "language_info": {
   "codemirror_mode": {
    "name": "ipython",
    "version": 3
   },
   "file_extension": ".py",
   "mimetype": "text/x-python",
   "name": "python",
   "nbconvert_exporter": "python",
   "pygments_lexer": "ipython3",
   "version": "3.11.3"
  },
  "orig_nbformat": 4
 },
 "nbformat": 4,
 "nbformat_minor": 2
}
