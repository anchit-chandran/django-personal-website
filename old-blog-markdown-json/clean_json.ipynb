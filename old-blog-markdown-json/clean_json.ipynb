{
 "cells": [
  {
   "cell_type": "code",
   "execution_count": 6,
   "metadata": {},
   "outputs": [
    {
     "data": {
      "text/plain": [
       "{'id': '60ca0f732df402003b6b0e1b',\n",
       " 'uuid': '90261be3-7aa8-4730-b711-81e039e5220c',\n",
       " 'title': 'Hello World',\n",
       " 'slug': '1-hello-world',\n",
       " 'mobiledoc': '{\"version\":\"0.3.1\",\"atoms\":[[\"soft-return\",\"\",{}]],\"cards\":[],\"markups\":[[\"strong\"],[\"a\",[\"href\",\"https://www.youtube.com/watch?utm_campaign=Anchit&utm_medium=email&utm_source=Revue%20newsletter&v=D3tPaKW7edI\",\"rel\",\"noopener\"]],[\"em\"],[\"a\",[\"href\",\"https://open.spotify.com/episode/5vIaOSKoEzm4EbcP4bzD2I?si=6e2e9e480ced4e33&utm_campaign=Anchit&utm_medium=email&utm_source=Revue%20newsletter\",\"rel\",\"noopener\"]],[\"a\",[\"href\",\"https://www.youtube.com/watch?t=15s&utm_campaign=Anchit&utm_medium=email&utm_source=Revue%20newsletter&v=HeQX2HjkcNo\",\"rel\",\"noopener\"]]],\"sections\":[[1,\"h1\",[[0,[0],1,\"Hello friends 💙\"]]],[1,\"p\",[[0,[],0,\"On \"],[0,[0],1,\"14th May 2019\"],[0,[],0,\", I uploaded my \"],[0,[1,2],2,\"first vlog\"],[0,[],0,\" to YouTube, which is currently on \"],[0,[2],1,\"16k\"],[0,[],0,\" views.\"]]],[1,\"p\",[[0,[],0,\"Back then, the \"],[0,[0],1,\"medic social media hustle\"],[0,[],0,\" wasn’t completely saturated. Video editing was quite fun and I wanted to show Imperial in a realistic and positive light.\"]]],[1,\"p\",[[0,[],0,\"I didn’t consider the consequences of uploading content to the internet. I hadn’t expected the backlash I got from some friends and peers. As an insecure child, I took this personally, becoming embarrassed of the project I’d spent months working on. I considered removing it.\"]]],[1,\"p\",[[0,[],0,\"I’m glad I didn’t. Surprisingly, the majority of positive feedback came from people on the internet - mostly freshers who recognised me in person, saying they’d enjoyed the video. I regret not continuing vlogging as I’m a firm believer in:\"]]],[1,\"blockquote\",[[0,[2],1,\"It’s not timing the market, it’s time in the market.\"],[1,[],0,0],[0,[0,2],2,\"-Warren Buffet\"]]],[1,\"p\",[[0,[],0,\"Maybe if I had continued, I could have grown a large platform to make side-hustle money from productivity videos on SkillShare.\"]]],[1,\"h2\",[[0,[0],1,\"Why am I starting a weekly email? 🤔\"]]],[1,\"p\",[[0,[],0,\"If you’ve spent more than 10 minutes around me recently, you’ve probably heard me speak about Ali Abdaal’s podcast: \"],[0,[0],1,\"Not Overthinking\"],[0,[],0,\". He has conversations about productivity, human interaction, and life purpose. Ali is a big proponent of making your creations public - particularly through a \"],[0,[0],1,\"weekly email\"],[0,[],0,\".\"]]],[1,\"p\",[[0,[],0,\"I have a lot of nebulous goals to improve the world, but few are properly formed. I’ve found verbalising and discussing ideas with others is the best to solidify concepts.\"]]],[1,\"p\",[[0,[],0,\"A weekly email allows others to consider my ramblings, engage and teach me about their own views. Particularly regarding topics like mental health, I’ve found openly talking about my experiences de-stigmatises the area and allows others to speak about their own struggles.\"]]],[1,\"h2\",[[0,[0],1,\"F**k the h8rs 🔥\"]]],[1,\"p\",[[0,[],0,\"I’ve spent enough of my life allowing insecurities to hold me back.\"]]],[1,\"p\",[[0,[],0,\"One of my biggest insecurities is what others might think of me, particularly those I know. I’m starting to overcome this by realising:\"]]],[3,\"ol\",[[[0,[],0,\"People spend very little time thinking about others - we’re far too busy worrying about ourselves.\"]],[[0,[],0,\"If I imagine one of my friends doing this, I would be very supportive - there’s no rational reason to not assume the same of them.\"]]]],[1,\"h2\",[[0,[0],1,\"Sitting in the discomfort 😬\"]]],[1,\"p\",[[0,[],0,\"As a wise man (Yash) once told me, you should \"],[0,[0],1,\"sit in the discomfort\"],[0,[],0,\".\"]]],[1,\"p\",[[0,[],0,\"We only improve when uncomfortable and making my thoughts public seems \"],[0,[2],1,\"very\"],[0,[],0,\" uncomfortable.\"]]],[1,\"p\",[[0,[],0,\"One of my life goals is to improve the NHS. I am hoping to do this by reforming its systems through improved organisational culture and technology. System redesign first requires an understanding of those systems. I can understand by starting conversations with people.\"]]],[1,\"p\",[[0,[],0,\"A newsletter each week should take relatively little time. However, incremental gains over a large amount of time lead to exponential success. I’m excited to keep a record of how my patterns of thinking change in the future.\"]]],[1,\"p\",[[0,[],0,\"Thanks for taking the time to read this! Either hit reply or message me directly if you want to discuss anything!\"]]],[1,\"p\",[[0,[],0,\"Peace,\"]]],[1,\"p\",[[0,[],0,\"Anchit x\"]]],[1,\"h2\",[[0,[],0,\"Cool things I\\'ve come across this week:\"]]],[1,\"p\",[[0,[0],1,\"Books\"]]],[3,\"ul\",[[[0,[0],1,\"A Guide to the Good Life - The Ancient Art of Stoic Joy\"],[0,[],0,\" - a book on developing a modern-day philosophy to live a fulfilling and tranquil life\"]],[[0,[0],1,\"The Beginning of Infinity\"],[0,[],0,\" - an incredible book about the philosophy of science - will be reading this again and again for years to properly understand it\"]],[[0,[0],1,\"The Noonday Demon\"],[0,[],0,\" - a beautiful personal verbalisation and understanding of depression\"]]]],[1,\"p\",[[0,[0],1,\"Podcasts\"]]],[3,\"ul\",[[[0,[3,0,2],3,\"Not Overthinking - How to convince your friend to start a blog\"]]]],[1,\"p\",[[0,[0],1,\"Videos\"]]],[3,\"ul\",[[[0,[4,0,2],3,\"Math Has a Fatal Flaw\"],[0,[],0,\" - super trippy video that made me question if maths is real\"]]]]],\"ghostVersion\":\"4.0\"}',\n",
       " 'html': '<h1 id=\"hello-friends-%F0%9F%92%99\"><strong>Hello friends 💙</strong></h1><p>On <strong>14th May 2019</strong>, I uploaded my <a href=\"https://www.youtube.com/watch?utm_campaign=Anchit&amp;utm_medium=email&amp;utm_source=Revue%20newsletter&amp;v=D3tPaKW7edI\" rel=\"noopener\"><em>first vlog</em></a> to YouTube, which is currently on <em>16k</em> views.</p><p>Back then, the <strong>medic social media hustle</strong> wasn’t completely saturated. Video editing was quite fun and I wanted to show Imperial in a realistic and positive light.</p><p>I didn’t consider the consequences of uploading content to the internet. I hadn’t expected the backlash I got from some friends and peers. As an insecure child, I took this personally, becoming embarrassed of the project I’d spent months working on. I considered removing it.</p><p>I’m glad I didn’t. Surprisingly, the majority of positive feedback came from people on the internet - mostly freshers who recognised me in person, saying they’d enjoyed the video. I regret not continuing vlogging as I’m a firm believer in:</p><blockquote><em>It’s not timing the market, it’s time in the market.</em><br><strong><em>-Warren Buffet</em></strong></blockquote><p>Maybe if I had continued, I could have grown a large platform to make side-hustle money from productivity videos on SkillShare.</p><h2 id=\"why-am-i-starting-a-weekly-email-%F0%9F%A4%94\"><strong>Why am I starting a weekly email? 🤔</strong></h2><p>If you’ve spent more than 10 minutes around me recently, you’ve probably heard me speak about Ali Abdaal’s podcast: <strong>Not Overthinking</strong>. He has conversations about productivity, human interaction, and life purpose. Ali is a big proponent of making your creations public - particularly through a <strong>weekly email</strong>.</p><p>I have a lot of nebulous goals to improve the world, but few are properly formed. I’ve found verbalising and discussing ideas with others is the best to solidify concepts.</p><p>A weekly email allows others to consider my ramblings, engage and teach me about their own views. Particularly regarding topics like mental health, I’ve found openly talking about my experiences de-stigmatises the area and allows others to speak about their own struggles.</p><h2 id=\"fk-the-h8rs-%F0%9F%94%A5\"><strong>F**k the h8rs 🔥</strong></h2><p>I’ve spent enough of my life allowing insecurities to hold me back.</p><p>One of my biggest insecurities is what others might think of me, particularly those I know. I’m starting to overcome this by realising:</p><ol><li>People spend very little time thinking about others - we’re far too busy worrying about ourselves.</li><li>If I imagine one of my friends doing this, I would be very supportive - there’s no rational reason to not assume the same of them.</li></ol><h2 id=\"sitting-in-the-discomfort-%F0%9F%98%AC\"><strong>Sitting in the discomfort 😬</strong></h2><p>As a wise man (Yash) once told me, you should <strong>sit in the discomfort</strong>.</p><p>We only improve when uncomfortable and making my thoughts public seems <em>very</em> uncomfortable.</p><p>One of my life goals is to improve the NHS. I am hoping to do this by reforming its systems through improved organisational culture and technology. System redesign first requires an understanding of those systems. I can understand by starting conversations with people.</p><p>A newsletter each week should take relatively little time. However, incremental gains over a large amount of time lead to exponential success. I’m excited to keep a record of how my patterns of thinking change in the future.</p><p>Thanks for taking the time to read this! Either hit reply or message me directly if you want to discuss anything!</p><p>Peace,</p><p>Anchit x</p><h2 id=\"cool-things-ive-come-across-this-week\">Cool things I\\'ve come across this week:</h2><p><strong>Books</strong></p><ul><li><strong>A Guide to the Good Life - The Ancient Art of Stoic Joy</strong> - a book on developing a modern-day philosophy to live a fulfilling and tranquil life</li><li><strong>The Beginning of Infinity</strong> - an incredible book about the philosophy of science - will be reading this again and again for years to properly understand it</li><li><strong>The Noonday Demon</strong> - a beautiful personal verbalisation and understanding of depression</li></ul><p><strong>Podcasts</strong></p><ul><li><a href=\"https://open.spotify.com/episode/5vIaOSKoEzm4EbcP4bzD2I?si=6e2e9e480ced4e33&amp;utm_campaign=Anchit&amp;utm_medium=email&amp;utm_source=Revue%20newsletter\" rel=\"noopener\"><strong><em>Not Overthinking - How to convince your friend to start a blog</em></strong></a></li></ul><p><strong>Videos</strong></p><ul><li><a href=\"https://www.youtube.com/watch?t=15s&amp;utm_campaign=Anchit&amp;utm_medium=email&amp;utm_source=Revue%20newsletter&amp;v=HeQX2HjkcNo\" rel=\"noopener\"><strong><em>Math Has a Fatal Flaw</em></strong></a> - super trippy video that made me question if maths is real</li></ul>',\n",
       " 'comment_id': '60ca0f732df402003b6b0e1b',\n",
       " 'plaintext': \"Hello friends 💙\\nOn 14th May 2019, I uploaded my first vlog\\n[https://www.youtube.com/watch?utm_campaign=Anchit&utm_medium=email&utm_source=Revue%20newsletter&v=D3tPaKW7edI] \\nto YouTube, which is currently on 16k views.\\n\\nBack then, the medic social media hustle wasn’t completely saturated. Video\\nediting was quite fun and I wanted to show Imperial in a realistic and positive\\nlight.\\n\\nI didn’t consider the consequences of uploading content to the internet. I\\nhadn’t expected the backlash I got from some friends and peers. As an insecure\\nchild, I took this personally, becoming embarrassed of the project I’d spent\\nmonths working on. I considered removing it.\\n\\nI’m glad I didn’t. Surprisingly, the majority of positive feedback came from\\npeople on the internet - mostly freshers who recognised me in person, saying\\nthey’d enjoyed the video. I regret not continuing vlogging as I’m a firm\\nbeliever in:\\n\\n> It’s not timing the market, it’s time in the market.\\n-Warren Buffet\\nMaybe if I had continued, I could have grown a large platform to make\\nside-hustle money from productivity videos on SkillShare.\\n\\nWhy am I starting a weekly email? 🤔\\nIf you’ve spent more than 10 minutes around me recently, you’ve probably heard\\nme speak about Ali Abdaal’s podcast: Not Overthinking. He has conversations\\nabout productivity, human interaction, and life purpose. Ali is a big proponent\\nof making your creations public - particularly through a weekly email.\\n\\nI have a lot of nebulous goals to improve the world, but few are properly\\nformed. I’ve found verbalising and discussing ideas with others is the best to\\nsolidify concepts.\\n\\nA weekly email allows others to consider my ramblings, engage and teach me about\\ntheir own views. Particularly regarding topics like mental health, I’ve found\\nopenly talking about my experiences de-stigmatises the area and allows others to\\nspeak about their own struggles.\\n\\nF**k the h8rs 🔥\\nI’ve spent enough of my life allowing insecurities to hold me back.\\n\\nOne of my biggest insecurities is what others might think of me, particularly\\nthose I know. I’m starting to overcome this by realising:\\n\\n 1. People spend very little time thinking about others - we’re far too busy\\n    worrying about ourselves.\\n 2. If I imagine one of my friends doing this, I would be very supportive -\\n    there’s no rational reason to not assume the same of them.\\n\\nSitting in the discomfort 😬\\nAs a wise man (Yash) once told me, you should sit in the discomfort.\\n\\nWe only improve when uncomfortable and making my thoughts public seems very \\nuncomfortable.\\n\\nOne of my life goals is to improve the NHS. I am hoping to do this by reforming\\nits systems through improved organisational culture and technology. System\\nredesign first requires an understanding of those systems. I can understand by\\nstarting conversations with people.\\n\\nA newsletter each week should take relatively little time. However, incremental\\ngains over a large amount of time lead to exponential success. I’m excited to\\nkeep a record of how my patterns of thinking change in the future.\\n\\nThanks for taking the time to read this! Either hit reply or message me directly\\nif you want to discuss anything!\\n\\nPeace,\\n\\nAnchit x\\n\\nCool things I've come across this week:\\nBooks\\n\\n * A Guide to the Good Life - The Ancient Art of Stoic Joy - a book on\\n   developing a modern-day philosophy to live a fulfilling and tranquil life\\n * The Beginning of Infinity - an incredible book about the philosophy of\\n   science - will be reading this again and again for years to properly\\n   understand it\\n * The Noonday Demon - a beautiful personal verbalisation and understanding of\\n   depression\\n\\nPodcasts\\n\\n * Not Overthinking - How to convince your friend to start a blog\\n   [https://open.spotify.com/episode/5vIaOSKoEzm4EbcP4bzD2I?si=6e2e9e480ced4e33&utm_campaign=Anchit&utm_medium=email&utm_source=Revue%20newsletter]\\n\\nVideos\\n\\n * Math Has a Fatal Flaw\\n   [https://www.youtube.com/watch?t=15s&utm_campaign=Anchit&utm_medium=email&utm_source=Revue%20newsletter&v=HeQX2HjkcNo] \\n   - super trippy video that made me question if maths is real\",\n",
       " 'feature_image': 'https://images.unsplash.com/photo-1545955413-209e03defb1f?crop=entropy&cs=tinysrgb&fit=max&fm=jpg&ixid=MnwxMTc3M3wwfDF8c2VhcmNofDExfHxzdW58ZW58MHx8fHwxNjIzODU1MzIw&ixlib=rb-1.2.1&q=80&w=2000',\n",
       " 'featured': 1,\n",
       " 'type': 'post',\n",
       " 'status': 'published',\n",
       " 'locale': None,\n",
       " 'visibility': 'public',\n",
       " 'email_recipient_filter': 'all',\n",
       " 'created_at': '2021-06-16T14:49:23.000Z',\n",
       " 'updated_at': '2021-09-20T21:12:05.000Z',\n",
       " 'published_at': '2021-06-16T14:56:19.000Z',\n",
       " 'custom_excerpt': None,\n",
       " 'codeinjection_head': None,\n",
       " 'codeinjection_foot': None,\n",
       " 'custom_template': None,\n",
       " 'canonical_url': None,\n",
       " 'newsletter_id': '6271011e6924a00031072614',\n",
       " 'lexical': None}"
      ]
     },
     "execution_count": 6,
     "metadata": {},
     "output_type": "execute_result"
    }
   ],
   "source": [
    "import json\n",
    "\n",
    "# Open the JSON file\n",
    "with open('old-posts.json', 'r') as file:\n",
    "    # Load the JSON data\n",
    "    json_data = json.load(file)\n",
    "\n",
    "json_data['db'][0]['data']['posts'][1]"
   ]
  },
  {
   "cell_type": "code",
   "execution_count": 3,
   "metadata": {},
   "outputs": [
    {
     "ename": "TypeError",
     "evalue": "string indices must be integers",
     "output_type": "error",
     "traceback": [
      "\u001b[0;31m---------------------------------------------------------------------------\u001b[0m",
      "\u001b[0;31mTypeError\u001b[0m                                 Traceback (most recent call last)",
      "Cell \u001b[0;32mIn[3], line 1\u001b[0m\n\u001b[0;32m----> 1\u001b[0m contents[\u001b[39m'\u001b[39;49m\u001b[39mdb\u001b[39;49m\u001b[39m'\u001b[39;49m]\n",
      "\u001b[0;31mTypeError\u001b[0m: string indices must be integers"
     ]
    }
   ],
   "source": []
  }
 ],
 "metadata": {
  "kernelspec": {
   "display_name": "pw-env",
   "language": "python",
   "name": "python3"
  },
  "language_info": {
   "codemirror_mode": {
    "name": "ipython",
    "version": 3
   },
   "file_extension": ".py",
   "mimetype": "text/x-python",
   "name": "python",
   "nbconvert_exporter": "python",
   "pygments_lexer": "ipython3",
   "version": "3.8.10"
  },
  "orig_nbformat": 4
 },
 "nbformat": 4,
 "nbformat_minor": 2
}
