{
 "cells": [
  {
   "cell_type": "code",
   "execution_count": 27,
   "metadata": {},
   "outputs": [
    {
     "name": "stdout",
     "output_type": "stream",
     "text": [
      "untitled-4 caused 'NoneType' object is not subscriptable\n"
     ]
    }
   ],
   "source": [
    "\n",
    "import json\n",
    "from markdownify import markdownify as md\n",
    "\n",
    "# Open the JSON file\n",
    "with open(\"old-posts.json\", \"r\") as file:\n",
    "    # Load the JSON data\n",
    "    json_data = json.load(file)\n",
    "\n",
    "exclude_posts = [\"contact-me\", \"sample-post\", \"about-me\"]\n",
    "\n",
    "for post in json_data[\"db\"][0][\"data\"][\"posts\"][1:]:\n",
    "    # get title\n",
    "    slug_title = post[\"slug\"]\n",
    "\n",
    "    # skip excluded\n",
    "    if slug_title in exclude_posts:\n",
    "        continue\n",
    "\n",
    "    try:\n",
    "        # get components for md title\n",
    "        published_date = (post[\"published_at\"][:10]).replace(\"-\", \"\")\n",
    "        title = f\"{published_date}-{post['slug']}.md\"\n",
    "\n",
    "        # convert html to md\n",
    "        html = post[\"html\"]\n",
    "        html_as_md = md(html)\n",
    "\n",
    "        # write markdown file\n",
    "        with open(f\"posts/{title}\", \"w\") as f:\n",
    "            f.write(html_as_md)\n",
    "\n",
    "    except Exception as e:\n",
    "        print(f\"{slug_title} caused {e}\")"
   ]
  }
 ],
 "metadata": {
  "kernelspec": {
   "display_name": "pw-env",
   "language": "python",
   "name": "python3"
  },
  "language_info": {
   "codemirror_mode": {
    "name": "ipython",
    "version": 3
   },
   "file_extension": ".py",
   "mimetype": "text/x-python",
   "name": "python",
   "nbconvert_exporter": "python",
   "pygments_lexer": "ipython3",
   "version": "3.8.10"
  },
  "orig_nbformat": 4
 },
 "nbformat": 4,
 "nbformat_minor": 2
}
