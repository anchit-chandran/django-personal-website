{
 "cells": [
  {
   "cell_type": "code",
   "execution_count": 2,
   "metadata": {},
   "outputs": [
    {
     "name": "stdout",
     "output_type": "stream",
     "text": [
      "Collecting markdownify\n",
      "  Downloading markdownify-0.11.6-py3-none-any.whl (16 kB)\n",
      "Collecting beautifulsoup4<5,>=4.9 (from markdownify)\n",
      "  Using cached beautifulsoup4-4.12.2-py3-none-any.whl (142 kB)\n",
      "Requirement already satisfied: six<2,>=1.15 in c:\\users\\anchit\\desktop\\programming\\django\\perosnal-website\\django-personal-website\\django-env\\lib\\site-packages (from markdownify) (1.16.0)\n",
      "Collecting soupsieve>1.2 (from beautifulsoup4<5,>=4.9->markdownify)\n",
      "  Using cached soupsieve-2.4.1-py3-none-any.whl (36 kB)\n",
      "Installing collected packages: soupsieve, beautifulsoup4, markdownify\n",
      "Successfully installed beautifulsoup4-4.12.2 markdownify-0.11.6 soupsieve-2.4.1\n"
     ]
    }
   ],
   "source": [
    "!pip install markdownify"
   ]
  },
  {
   "cell_type": "code",
   "execution_count": 2,
   "metadata": {},
   "outputs": [
    {
     "name": "stdout",
     "output_type": "stream",
     "text": [
      "untitled-4 caused 'NoneType' object is not subscriptable\n"
     ]
    }
   ],
   "source": [
    "import json\n",
    "from markdownify import markdownify as md\n",
    "\n",
    "# Open the JSON file\n",
    "with open(\"old-posts.json\", \"r\", encoding=\"utf-8\") as file:\n",
    "    # Load the JSON data\n",
    "    json_data = json.load(file)\n",
    "\n",
    "exclude_posts = [\"contact-me\", \"sample-post\", \"about-me\"]\n",
    "posts = json_data[\"db\"][0][\"data\"][\"posts\"]\n",
    "for post in posts:\n",
    "\n",
    "    # get title\n",
    "    slug_title = post[\"slug\"]\n",
    "\n",
    "    # skip excluded\n",
    "    if slug_title in exclude_posts:\n",
    "        continue\n",
    "\n",
    "    try:\n",
    "        # get components for md title\n",
    "        published_date = (post[\"published_at\"][:10])\n",
    "        title = f\"{published_date}-{post['slug']}.md\"\n",
    "\n",
    "        # add img url, convert html to md\n",
    "        html = post[\"html\"]\n",
    "        html_as_md = md(html)\n",
    "\n",
    "        # write markdown file\n",
    "        with open(f\"posts/{title}\", \"w\", encoding=\"utf-8\") as f:\n",
    "            yml_data = f\"\"\"---\\ntitle: {post['title']}\\npublished_on: {published_date}\\nheader_img: {post['feature_image']}\\n---\\n\\n\"\"\"\n",
    "            f.write(yml_data)\n",
    "            f.write(html_as_md)\n",
    "        \n",
    "\n",
    "    except Exception as e:\n",
    "        print(f\"{slug_title} caused {e}\")"
   ]
  },
  {
   "cell_type": "code",
   "execution_count": 18,
   "metadata": {},
   "outputs": [
    {
     "name": "stdout",
     "output_type": "stream",
     "text": [
      "https://images.unsplash.com/photo-1580711508375-6040b32f28aa?crop=entropy&cs=tinysrgb&fit=max&fm=jpg&ixid=MnwxMTc3M3wwfDF8c2VhcmNofDEwfHxmaWdodHxlbnwwfHx8fDE2MjM4NTc2MDY&ixlib=rb-1.2.1&q=80&w=2000\n"
     ]
    }
   ],
   "source": [
    "title = '20210616-2-tearing-down-my-echo-chamber.md'\n",
    "with open(f\"posts/{title}\", \"r\", encoding=\"utf-8\") as f:\n",
    "    lines = f.readlines()\n",
    "    print(lines[-1])"
   ]
  },
  {
   "cell_type": "code",
   "execution_count": 15,
   "metadata": {},
   "outputs": [],
   "source": [
    "import pandas as pd \n",
    "\n",
    "df = pd.read_csv('subscribers.csv')\n",
    "\n",
    "(\n",
    "    df\n",
    "    [[\"email\",\"name\",\"subscribed_to_emails\"]]\n",
    "    .query(\"subscribed_to_emails == True\")\n",
    "    .to_csv('subscribers1.csv')\n",
    " )"
   ]
  },
  {
   "cell_type": "code",
   "execution_count": 10,
   "metadata": {},
   "outputs": [
    {
     "name": "stdout",
     "output_type": "stream",
     "text": [
      "Collecting pandas\n",
      "  Downloading pandas-2.0.2-cp311-cp311-win_amd64.whl (10.6 MB)\n",
      "                                              0.0/10.6 MB ? eta -:--:--\n",
      "                                              0.2/10.6 MB 5.1 MB/s eta 0:00:03\n",
      "     --                                       0.6/10.6 MB 7.4 MB/s eta 0:00:02\n",
      "     ---                                      1.0/10.6 MB 7.8 MB/s eta 0:00:02\n",
      "     -----                                    1.4/10.6 MB 8.0 MB/s eta 0:00:02\n",
      "     ------                                   1.8/10.6 MB 8.7 MB/s eta 0:00:02\n",
      "     --------                                 2.2/10.6 MB 8.7 MB/s eta 0:00:01\n",
      "     ---------                                2.6/10.6 MB 8.7 MB/s eta 0:00:01\n",
      "     -----------                              3.0/10.6 MB 8.7 MB/s eta 0:00:01\n",
      "     ------------                             3.4/10.6 MB 8.7 MB/s eta 0:00:01\n",
      "     --------------                           3.8/10.6 MB 8.6 MB/s eta 0:00:01\n",
      "     ---------------                          4.0/10.6 MB 8.3 MB/s eta 0:00:01\n",
      "     ----------------                         4.4/10.6 MB 8.2 MB/s eta 0:00:01\n",
      "     -----------------                        4.8/10.6 MB 8.2 MB/s eta 0:00:01\n",
      "     -------------------                      5.2/10.6 MB 8.3 MB/s eta 0:00:01\n",
      "     ---------------------                    5.6/10.6 MB 8.3 MB/s eta 0:00:01\n",
      "     ----------------------                   6.0/10.6 MB 8.3 MB/s eta 0:00:01\n",
      "     ------------------------                 6.4/10.6 MB 8.3 MB/s eta 0:00:01\n",
      "     -------------------------                6.8/10.6 MB 8.5 MB/s eta 0:00:01\n",
      "     ---------------------------              7.2/10.6 MB 8.5 MB/s eta 0:00:01\n",
      "     ----------------------------             7.6/10.6 MB 8.5 MB/s eta 0:00:01\n",
      "     ------------------------------           8.0/10.6 MB 8.5 MB/s eta 0:00:01\n",
      "     -------------------------------          8.4/10.6 MB 8.5 MB/s eta 0:00:01\n",
      "     ---------------------------------        8.8/10.6 MB 8.5 MB/s eta 0:00:01\n",
      "     ----------------------------------       9.2/10.6 MB 8.5 MB/s eta 0:00:01\n",
      "     ------------------------------------     9.6/10.6 MB 8.5 MB/s eta 0:00:01\n",
      "     -------------------------------------    10.0/10.6 MB 8.5 MB/s eta 0:00:01\n",
      "     ---------------------------------------  10.4/10.6 MB 8.6 MB/s eta 0:00:01\n",
      "     ---------------------------------------  10.6/10.6 MB 8.6 MB/s eta 0:00:01\n",
      "     ---------------------------------------- 10.6/10.6 MB 8.3 MB/s eta 0:00:00\n",
      "Requirement already satisfied: python-dateutil>=2.8.2 in c:\\users\\anchit\\desktop\\programming\\django\\perosnal-website\\django-personal-website\\django-env\\lib\\site-packages (from pandas) (2.8.2)\n",
      "Collecting pytz>=2020.1 (from pandas)\n",
      "  Using cached pytz-2023.3-py2.py3-none-any.whl (502 kB)\n",
      "Requirement already satisfied: tzdata>=2022.1 in c:\\users\\anchit\\desktop\\programming\\django\\perosnal-website\\django-personal-website\\django-env\\lib\\site-packages (from pandas) (2023.3)\n",
      "Collecting numpy>=1.21.0 (from pandas)\n",
      "  Downloading numpy-1.24.3-cp311-cp311-win_amd64.whl (14.8 MB)\n",
      "                                              0.0/14.8 MB ? eta -:--:--\n",
      "     -                                        0.4/14.8 MB 12.6 MB/s eta 0:00:02\n",
      "     --                                       0.8/14.8 MB 8.6 MB/s eta 0:00:02\n",
      "     ---                                      1.2/14.8 MB 9.7 MB/s eta 0:00:02\n",
      "     ----                                     1.6/14.8 MB 9.4 MB/s eta 0:00:02\n",
      "     -----                                    2.0/14.8 MB 9.2 MB/s eta 0:00:02\n",
      "     ------                                   2.4/14.8 MB 9.2 MB/s eta 0:00:02\n",
      "     -------                                  2.9/14.8 MB 9.1 MB/s eta 0:00:02\n",
      "     --------                                 3.2/14.8 MB 9.0 MB/s eta 0:00:02\n",
      "     ---------                                3.7/14.8 MB 9.0 MB/s eta 0:00:02\n",
      "     ----------                               4.0/14.8 MB 8.9 MB/s eta 0:00:02\n",
      "     -----------                              4.4/14.8 MB 8.9 MB/s eta 0:00:02\n",
      "     -------------                            4.8/14.8 MB 8.8 MB/s eta 0:00:02\n",
      "     --------------                           5.3/14.8 MB 8.9 MB/s eta 0:00:02\n",
      "     ---------------                          5.7/14.8 MB 8.9 MB/s eta 0:00:02\n",
      "     ----------------                         6.1/14.8 MB 8.8 MB/s eta 0:00:01\n",
      "     -----------------                        6.5/14.8 MB 8.8 MB/s eta 0:00:01\n",
      "     ------------------                       6.9/14.8 MB 8.8 MB/s eta 0:00:01\n",
      "     -------------------                      7.3/14.8 MB 8.8 MB/s eta 0:00:01\n",
      "     --------------------                     7.7/14.8 MB 8.9 MB/s eta 0:00:01\n",
      "     ---------------------                    8.1/14.8 MB 8.8 MB/s eta 0:00:01\n",
      "     ----------------------                   8.5/14.8 MB 8.9 MB/s eta 0:00:01\n",
      "     -----------------------                  8.9/14.8 MB 8.9 MB/s eta 0:00:01\n",
      "     -------------------------                9.3/14.8 MB 8.9 MB/s eta 0:00:01\n",
      "     --------------------------               9.7/14.8 MB 8.9 MB/s eta 0:00:01\n",
      "     ---------------------------              10.1/14.8 MB 8.9 MB/s eta 0:00:01\n",
      "     ----------------------------             10.5/14.8 MB 8.8 MB/s eta 0:00:01\n",
      "     -----------------------------            10.9/14.8 MB 8.8 MB/s eta 0:00:01\n",
      "     ------------------------------           11.3/14.8 MB 8.8 MB/s eta 0:00:01\n",
      "     -------------------------------          11.7/14.8 MB 8.8 MB/s eta 0:00:01\n",
      "     --------------------------------         12.2/14.8 MB 8.8 MB/s eta 0:00:01\n",
      "     ---------------------------------        12.5/14.8 MB 8.7 MB/s eta 0:00:01\n",
      "     ----------------------------------       12.9/14.8 MB 8.7 MB/s eta 0:00:01\n",
      "     ------------------------------------     13.4/14.8 MB 8.7 MB/s eta 0:00:01\n",
      "     -------------------------------------    13.8/14.8 MB 8.7 MB/s eta 0:00:01\n",
      "     --------------------------------------   14.2/14.8 MB 8.7 MB/s eta 0:00:01\n",
      "     ---------------------------------------  14.6/14.8 MB 8.7 MB/s eta 0:00:01\n",
      "     ---------------------------------------  14.8/14.8 MB 8.7 MB/s eta 0:00:01\n",
      "     ---------------------------------------- 14.8/14.8 MB 8.5 MB/s eta 0:00:00\n",
      "Requirement already satisfied: six>=1.5 in c:\\users\\anchit\\desktop\\programming\\django\\perosnal-website\\django-personal-website\\django-env\\lib\\site-packages (from python-dateutil>=2.8.2->pandas) (1.16.0)\n",
      "Installing collected packages: pytz, numpy, pandas\n",
      "Successfully installed numpy-1.24.3 pandas-2.0.2 pytz-2023.3\n"
     ]
    }
   ],
   "source": [
    "!pip install pandas"
   ]
  },
  {
   "cell_type": "code",
   "execution_count": null,
   "metadata": {},
   "outputs": [],
   "source": []
  }
 ],
 "metadata": {
  "kernelspec": {
   "display_name": "pw-env",
   "language": "python",
   "name": "python3"
  },
  "language_info": {
   "codemirror_mode": {
    "name": "ipython",
    "version": 3
   },
   "file_extension": ".py",
   "mimetype": "text/x-python",
   "name": "python",
   "nbconvert_exporter": "python",
   "pygments_lexer": "ipython3",
   "version": "3.11.3"
  },
  "orig_nbformat": 4
 },
 "nbformat": 4,
 "nbformat_minor": 2
}
